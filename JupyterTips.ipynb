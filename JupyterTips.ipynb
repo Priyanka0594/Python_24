{
 "cells": [
  {
   "cell_type": "markdown",
   "metadata": {},
   "source": [
    "# STAT40800 Data Programming with Python\n",
    "## Jake Mac Uilliam\n"
   ]
  },
  {
   "cell_type": "markdown",
   "metadata": {},
   "source": [
    "## Jupyter Notebook\n",
    "[Jupyter Notebook](https://jupyter-notebook.readthedocs.io/en/stable/) is a web-based interactive development environment (IDE). \n",
    "The easiest way to run Jupyter Notebook is through Anaconda, which can be downloaded [here](https://www.anaconda.com/products/individual). Anaconda is also available on UCD Apps Anywhere, if you would rather not download it on to your computer. \n",
    "\n",
    "Jupyter Notebook allow users to interleeve code and text, making it ideal for learning Python. This document was created as a Notebook. \n",
    "\n",
    "Within a Jupyter Notebook there are two operating modes; *command mode* and *edit mode*. Your keyboard will operate differently in each mode. \n",
    "In edit mode, the keyboard operates like a standard keyboard, allowing you to add code or text to a cell. \n",
    "Command mode allows you to edit the Notebook as a whole using an array of keyboard shortcuts (see below). \n",
    "Clicking on the code/text box of a cell will initiate edit mode, clicking anywhere else on the document will switch back to command mode. You can also enter edit mode using <kbd>Enter</kbd> and command mode using <kbd>Esc</kbd>. To run a block of code or text you can use the <kbd>$\\blacktriangleright$|Run</kbd> at the top of your Notebook or pressing <kbd>shift</kbd>+<kbd>Enter</kbd>.\n",
    "\n",
    "\n",
    "### Useful keyboard shortcuts\n",
    "#### Command mode\n",
    "* Initiate command mode: <kbd>Esc</kbd>\n",
    "* Run cell: <kbd>shift</kbd>+<kbd>Enter</kbd> or <kbd>shift</kbd>+<kbd>return</kbd>\n",
    "* Move between cells: <kbd>$\\uparrow$</kbd> and <kbd>$\\downarrow$</kbd> or <kbd>k</kbd> and <kbd>j</kbd>\n",
    "* Create cell: <kbd>a</kbd> (above), <kbd>b</kbd> (below)\n",
    "* Edit cell (enter edit mode): <kbd>Enter</kbd>\n",
    "* Change cell type: <kbd>y</kbd> (code), <kbd>m</kbd> (markdown)\n",
    "* Copy cell: <kbd>c</kbd>\n",
    "* Paste delete: <kbd>v</kbd>\n",
    "* Delete cell: <kbd>d</kbd><kbd>d</kbd> (press key twice)\n",
    "* Undo delete: <kbd>z</kbd> (<kbd>Shift</kbd>+<kbd>z</kbd> to redo)\n",
    "* Save notebook: <kbd>s</kbd>\n",
    "\n",
    "\n",
    "#### Edit mode\n",
    "* Enter edit mode: <kbd>Enter</kbd> or <kbd>return</kbd>\n",
    "* New line: <kbd>Enter</kbd> or <kbd>return</kbd>\n",
    "* Run cell: <kbd>shift</kbd>+<kbd>Enter</kbd> or <kbd>shift</kbd>+<kbd>return</kbd>\n",
    "* Exit edit mode: <kbd>Esc</kbd>\n"
   ]
  },
  {
   "cell_type": "markdown",
   "metadata": {},
   "source": [
    "### Writing code\n",
    "As mentioned above, Notebooks allow us to interleave code and text. A Notebook consists of a set of cells, which can be either code, markdown (formatted text) or raw (unformatted text). This is a markdown cell, below we have a code cell. We will not use raw cells. By default, cells are created as code cells and can be changed using the drop-down on the toolbar or using the keyboard shortcuts (outlined above).\n",
    "\n",
    "The most basic command in Python is the `print` function. It will display the specified message. Run the code below by selecting the cell and pressing the <kbd>$\\blacktriangleright$|Run</kbd> at the top of your Notebook or by hitting <kbd>shift</kbd>+<kbd>Enter</kbd>."
   ]
  },
  {
   "cell_type": "code",
   "execution_count": null,
   "metadata": {},
   "outputs": [],
   "source": [
    "print('Hello Jupyter!')"
   ]
  },
  {
   "cell_type": "markdown",
   "metadata": {},
   "source": [
    "Python also allows us to do basic mathematical operations:"
   ]
  },
  {
   "cell_type": "code",
   "execution_count": null,
   "metadata": {},
   "outputs": [],
   "source": [
    "2+3 "
   ]
  },
  {
   "cell_type": "code",
   "execution_count": null,
   "metadata": {},
   "outputs": [],
   "source": [
    "4*6"
   ]
  },
  {
   "cell_type": "markdown",
   "metadata": {},
   "source": [
    "The *Introduction to Python* Notebook goes through the basics of the Python programming language"
   ]
  },
  {
   "cell_type": "code",
   "execution_count": null,
   "metadata": {},
   "outputs": [],
   "source": []
  }
 ],
 "metadata": {
  "kernelspec": {
   "display_name": "Python 3 (ipykernel)",
   "language": "python",
   "name": "python3"
  },
  "language_info": {
   "codemirror_mode": {
    "name": "ipython",
    "version": 3
   },
   "file_extension": ".py",
   "mimetype": "text/x-python",
   "name": "python",
   "nbconvert_exporter": "python",
   "pygments_lexer": "ipython3",
   "version": "3.11.4"
  }
 },
 "nbformat": 4,
 "nbformat_minor": 4
}
