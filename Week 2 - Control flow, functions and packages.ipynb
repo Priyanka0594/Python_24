{
 "cells": [
  {
   "attachments": {},
   "cell_type": "markdown",
   "metadata": {},
   "source": [
    "# STAT40800 Data Programming with Python\n",
    "## Jake Mac Uilliam\n",
    "\n",
    "\n",
    "\n",
    "# Week 2"
   ]
  },
  {
   "cell_type": "markdown",
   "metadata": {},
   "source": [
    "## Control flow\n",
    "\n",
    "Control flow refers to the order in which your code is run. You may only want to run certain sections of your code provided a particular condition is met (`if`), you may want to run a section multiple times (`for`) or you may want to repeat section until a particular condition is violated (`while`). Understanding control flow is essential for computer scientists.\n",
    "\n",
    "### `if` statements\n",
    "An `if` statement contains a Boolean condition followed by some consequent action. The action will only be carried out if the condition is met. See example below for the syntax. The `if` statement and condition must be followed by a colon `:`."
   ]
  },
  {
   "cell_type": "code",
   "execution_count": 1,
   "metadata": {},
   "outputs": [
    {
     "name": "stdout",
     "output_type": "stream",
     "text": [
      "0\n"
     ]
    }
   ],
   "source": [
    "y = 4\n",
    "z = 0\n",
    "if y<3:\n",
    "    z = 2\n",
    "print(z)"
   ]
  },
  {
   "cell_type": "markdown",
   "metadata": {},
   "source": [
    "Try changing y to 4 and see what happens.\n",
    "\n",
    "**Note** the indentation of `z = 2`. This is very important! Python uses indentations to specify what is/isn't part of the if statement. This will also be the case will `for` and `while` loops. If we were to also indent the print statement, `z` would only be displayed if the condition `y<3` was met.\n",
    "\n",
    "Often there are multiple conditions, with different consequent actions. For this we can extend the if statement with `elif` and `else` statements. An `elif` (else if) statement, like an `if` statement, requires a Boolean condition and the consequent action is carried out if the condition is met, provided all none of the previous conditions were met. An `else` statement does not have a Boolean condition, its consequent action is carried out if none of the previous conditions were met."
   ]
  },
  {
   "cell_type": "code",
   "execution_count": null,
   "metadata": {},
   "outputs": [],
   "source": [
    "x = 0\n",
    "if x > 0:\n",
    "    print('x is positive')\n",
    "elif x < 0:\n",
    "    print('x is negative')\n",
    "else:\n",
    "    print('x is zero')"
   ]
  },
  {
   "cell_type": "markdown",
   "metadata": {},
   "source": [
    "Try changing the value of x to obtained each of the possible outcomes\n",
    "\n",
    "**Note:** Only one set of actions can be carried out per `if/elif/else` statement. When a condition is met and the associated actions implemented, we skip to the end of the `if/elif/else` statement."
   ]
  },
  {
   "cell_type": "code",
   "execution_count": null,
   "metadata": {},
   "outputs": [],
   "source": [
    "p = 7\n",
    "if p>3:\n",
    "    q = 3\n",
    "elif p>1:\n",
    "    q = 1\n",
    "else:\n",
    "    q = 0\n",
    "print(q)"
   ]
  },
  {
   "cell_type": "markdown",
   "metadata": {},
   "source": [
    "Even though p is also greater than 1, we do not get to the `elif` statement because the `if` statement was satisfied. If you change p to 2, you should obtain q = 1"
   ]
  },
  {
   "cell_type": "markdown",
   "metadata": {},
   "source": [
    "#### Exercise 1\n",
    "\n",
    "A souvenir store in Venice is selling magnets for €3.00 each. However, they offer discounts such that the more you buy the cheaper they are.\n",
    "If you buy 10 or more magnets they cost €2.00 each, or if you buy more than 5 but less than 10 they cost €2.50 each. Write a set of `if/elif/else` statements to calculate the total cost of the order for $n$ magnets. Set $n=3$, $n=6$, and $n=10$ to confirm that you get the correct answer.."
   ]
  },
  {
   "cell_type": "code",
   "execution_count": 5,
   "metadata": {},
   "outputs": [
    {
     "name": "stdout",
     "output_type": "stream",
     "text": [
      "2\n"
     ]
    }
   ],
   "source": [
    "# n=3\n",
    "# n=6\n",
    "n=10\n",
    "\n",
    "if n<=5 and n>0:\n",
    "    c= 3\n",
    "elif n>5 and n<10:\n",
    "    c=2.5\n",
    "elif n>=10:\n",
    "    c= 2\n",
    "\n",
    "print(c)"
   ]
  },
  {
   "cell_type": "markdown",
   "metadata": {},
   "source": [
    "### `for` loops\n",
    "\n",
    "Often we want to loop over a set of commands multiple times. This is what a `for` loop is used for. Typically, we change one of the variable each time we run the section of code.\n",
    "\n",
    "Below we set `i` equal to 1 and execute the commands inside the `for` loop (indented code). Then we set `i` equal to 2 and repeat and continue this process until we each the last value in the list."
   ]
  },
  {
   "cell_type": "code",
   "execution_count": null,
   "metadata": {},
   "outputs": [],
   "source": [
    "sum1 = 0\n",
    "list1 = [1,2,3,4,5,6,7,8,9,10]\n",
    "for i in list1:\n",
    "    sum1 = sum1 + i \n",
    "print(sum1)"
   ]
  },
  {
   "cell_type": "markdown",
   "metadata": {},
   "source": [
    "We can use `range` to specify the range in which the index is varying without the need of explicitly writing down a list."
   ]
  },
  {
   "cell_type": "code",
   "execution_count": null,
   "metadata": {},
   "outputs": [],
   "source": [
    "sum1 = 0\n",
    "for i in range(1,11):\n",
    "    sum1 = sum1 + i\n",
    "print(sum1)"
   ]
  },
  {
   "cell_type": "markdown",
   "metadata": {},
   "source": [
    "We often combine `if` statements and `for` loops:"
   ]
  },
  {
   "cell_type": "code",
   "execution_count": null,
   "metadata": {},
   "outputs": [],
   "source": [
    "for i in list1:\n",
    "    if i%2 == 0:    # `%` is the modulo operator, i.e. a%b is the remainder of a divided by b. \n",
    "        print(i,' is even')\n",
    "    else:\n",
    "        print(i,' is odd')"
   ]
  },
  {
   "cell_type": "markdown",
   "metadata": {},
   "source": [
    "**Note:** When asking if two objects are equal, we must use the double equals operator `==`. A single equal sign `=` is used for assigning values to objects. For not equal we use `!=`."
   ]
  },
  {
   "cell_type": "markdown",
   "metadata": {},
   "source": [
    "#### Exercise 2 \n",
    "\n",
    "Write a `for` loop to calculate the sum of $x^2$ for $x$ from 0 to 9, $\\sum_{x=0}^9 x^2$."
   ]
  },
  {
   "cell_type": "code",
   "execution_count": 7,
   "metadata": {},
   "outputs": [
    {
     "name": "stdout",
     "output_type": "stream",
     "text": [
      "sum of x^2 for x from 0 to 9 : 285\n",
      "285\n"
     ]
    }
   ],
   "source": [
    "s=0\n",
    "for i in range(0,10):\n",
    "    x=i*i\n",
    "    s=s+x\n",
    "\n",
    "print('sum of x^2 for x from 0 to 9 :',s)\n",
    "\n",
    "# print(1+4+9+16+25+36+49+64+81)"
   ]
  },
  {
   "cell_type": "markdown",
   "metadata": {},
   "source": [
    "### `while` loops\n",
    "\n",
    "`while` loops are similar to `for` loops except they contain a Boolean condition rather than a list of values to cycle through. The section of code inside the `while` loop is repeated until the Boolean condition is not longer true. It is important that you ensure your condition can be met, otherwise your code will continue forever. \n",
    "\n",
    "__TIP:__ Press `i` twice to stop the Python interpreter if you accidentally create a never-ending loop (`Ctrl` + `c` for most other IDEs)."
   ]
  },
  {
   "cell_type": "code",
   "execution_count": null,
   "metadata": {},
   "outputs": [],
   "source": [
    "x = 0\n",
    "while x<10:\n",
    "    x += 1   # shorthand for x = x + 1\n",
    "    print(x)"
   ]
  },
  {
   "cell_type": "markdown",
   "metadata": {},
   "source": [
    "#### Exercise 3\n",
    "\n",
    "Alter your `for` loop from Exercise 2 to a `while` loop, which again calculates $\\sum_{x=0} x^2$, but terminates instead when the sum is greater 500. "
   ]
  },
  {
   "cell_type": "code",
   "execution_count": 8,
   "metadata": {},
   "outputs": [
    {
     "name": "stdout",
     "output_type": "stream",
     "text": [
      "sum of square of number from 0 to 12 is 506\n"
     ]
    }
   ],
   "source": [
    "s=0\n",
    "i=0\n",
    "while s<=500:\n",
    "   x=i*i \n",
    "   s= s+ x\n",
    "   i+=1\n",
    "\n",
    "print(f\"sum of square of number from 0 to {i} is {s}\")"
   ]
  },
  {
   "cell_type": "markdown",
   "metadata": {},
   "source": [
    "## Functions\n",
    "\n",
    "A function is simply an input-output relationship, e.g. $f(x) = x^2$, if we use the input $x = 2$, we get an output $4$, which of course is $2^2$. Similarly, in programming, we specify a set of inputs and commands to be carried of on those inputs and the function returns a set of outputs.\n",
    "\n",
    "In Python, a function is defined using `def`. The function is given a name and its inputs are specified in round brackets after the function name. Typically, a function must have a return statement, which specifies the function output. Below we create a function `f`, which returns the input `x` to the power of 2:"
   ]
  },
  {
   "cell_type": "code",
   "execution_count": null,
   "metadata": {},
   "outputs": [],
   "source": [
    "def f(x):\n",
    "    result = x**2 #or pow(x,2)\n",
    "    return result\n",
    "print(f(4))"
   ]
  },
  {
   "cell_type": "markdown",
   "metadata": {},
   "source": [
    "Functions can have more than one input or output:"
   ]
  },
  {
   "cell_type": "code",
   "execution_count": null,
   "metadata": {},
   "outputs": [],
   "source": [
    "def addition(x,y):\n",
    "    return x+y\n",
    "print(addition(2,3))\n",
    "def add_and_sub(x,y):\n",
    "    return x+y, x-y\n",
    "print(add_and_sub(2,3))"
   ]
  },
  {
   "cell_type": "markdown",
   "metadata": {},
   "source": [
    "Combining this with some of the things from the previous section, we can write a function that returns all of the odd numbers up to a particular number:"
   ]
  },
  {
   "cell_type": "code",
   "execution_count": null,
   "metadata": {},
   "outputs": [],
   "source": [
    "def odd_numbers(n):\n",
    "    nums = []\n",
    "    i = 1\n",
    "    while i<n:\n",
    "        if i%2 != 0:\n",
    "            nums.append(i)\n",
    "        i += 1\n",
    "    return nums"
   ]
  },
  {
   "cell_type": "code",
   "execution_count": null,
   "metadata": {},
   "outputs": [],
   "source": [
    "print(odd_numbers(10))"
   ]
  },
  {
   "cell_type": "markdown",
   "metadata": {},
   "source": [
    "We can also stored the output of the function and apply other methods to it"
   ]
  },
  {
   "cell_type": "code",
   "execution_count": null,
   "metadata": {},
   "outputs": [],
   "source": [
    "output = odd_numbers(10)\n",
    "output.append(11)\n",
    "print(output)\n",
    "output.remove(3)\n",
    "print(output)"
   ]
  },
  {
   "cell_type": "markdown",
   "metadata": {
    "jp-MarkdownHeadingCollapsed": true
   },
   "source": [
    "#### Exercise 4\n",
    "Write a function *factorial* to compute the factorial of $x$. The input argument should be $x$ and the function should return $x!$. For example, the factorial of 5, $5! = 5\\times 4 \\times 3\\times 2 \\times 1 = 120$"
   ]
  },
  {
   "cell_type": "code",
   "execution_count": 18,
   "metadata": {},
   "outputs": [
    {
     "name": "stdout",
     "output_type": "stream",
     "text": [
      "1\n",
      "2\n",
      "6\n",
      "24\n",
      "120\n",
      "factorial of 5 is 120\n",
      "None\n"
     ]
    }
   ],
   "source": [
    "def fact(x):\n",
    "    fact=1\n",
    "    for i in range(1,x+1,1):\n",
    "        fact=fact*i\n",
    "        print(fact)\n",
    "    print(f\"factorial of {x} is {fact}\")\n",
    "\n",
    "print(fact(5))"
   ]
  },
  {
   "cell_type": "markdown",
   "metadata": {},
   "source": [
    "## Modules and Packages\n",
    "### Modules\n",
    "A module is simply a collection of functions that can be imported and used within your Python environment. \n",
    "\n",
    "I have created an example module (*my_module.py*), which can be downloaded from Brightspace. Save the module in the same working directory as your Python notebook so that you can easily load it into your Python environment.\n",
    "\n",
    "Modules are loaded into your current Python environment with an `import` statement. To import a module, simply type *import* followed by the module name."
   ]
  },
  {
   "cell_type": "code",
   "execution_count": 19,
   "metadata": {},
   "outputs": [],
   "source": [
    "import my_module"
   ]
  },
  {
   "cell_type": "markdown",
   "metadata": {},
   "source": [
    "To use the functions within a module use the syntax `module.function()`"
   ]
  },
  {
   "cell_type": "code",
   "execution_count": 20,
   "metadata": {},
   "outputs": [
    {
     "name": "stdout",
     "output_type": "stream",
     "text": [
      "1\n",
      "3\n",
      "5\n",
      "7\n",
      "9\n"
     ]
    }
   ],
   "source": [
    "my_module.odd_numbers()"
   ]
  },
  {
   "cell_type": "markdown",
   "metadata": {},
   "source": [
    "If we need to use lots of functions we can include a shortcut in the import statement."
   ]
  },
  {
   "cell_type": "code",
   "execution_count": 21,
   "metadata": {},
   "outputs": [
    {
     "name": "stdout",
     "output_type": "stream",
     "text": [
      "2\n",
      "4\n",
      "6\n",
      "8\n"
     ]
    }
   ],
   "source": [
    "import my_module as mm\n",
    "mm.even_numbers(8)"
   ]
  },
  {
   "cell_type": "markdown",
   "metadata": {},
   "source": [
    "If we only want to use a couple of functions from a module, it may make more sense to import the functions individually, rather than importing the full module, especially if there are a lot of functions in the module."
   ]
  },
  {
   "cell_type": "code",
   "execution_count": 22,
   "metadata": {},
   "outputs": [
    {
     "name": "stdout",
     "output_type": "stream",
     "text": [
      "1\n",
      "3\n",
      "5\n"
     ]
    }
   ],
   "source": [
    "from my_module import odd_numbers\n",
    "odd_numbers(5)"
   ]
  },
  {
   "cell_type": "markdown",
   "metadata": {},
   "source": [
    "**Note:** We don't include the module prefix when a function is imported individually."
   ]
  },
  {
   "cell_type": "markdown",
   "metadata": {},
   "source": [
    "### Packages\n",
    "A package is a collection of modules, arranged in a directory structure. We will be using lots of different packages over the course of this trimester. The main ones we will use are **NumPy** and **pandas**. \n",
    "\n",
    "Packages are imported in the same way as modules."
   ]
  },
  {
   "cell_type": "code",
   "execution_count": 23,
   "metadata": {},
   "outputs": [
    {
     "name": "stdout",
     "output_type": "stream",
     "text": [
      "0.8775825618903728\n"
     ]
    }
   ],
   "source": [
    "import numpy as np\n",
    "print(np.cos(0.5))"
   ]
  },
  {
   "cell_type": "markdown",
   "metadata": {},
   "source": [
    " Most of the packages we will be using are already installed in Jupyter Notebook. However, should you need to install a package, use the following code:\n",
    "\n",
    "`import sys\n",
    "!{sys.executable} -m pip install <package_name>`\n",
    "\n",
    "where `<package_name>` is the name of the package you wish to install."
   ]
  },
  {
   "cell_type": "markdown",
   "metadata": {},
   "source": [
    "## NumPy\n",
    "NumPy is a very useful package that offers four main components:\n",
    "* Vectors, matrices, and multi-dimensional arrays\n",
    "* Vectorised calculations which avoid unnecessary loops\n",
    "* Lots of mathematical commands useful for statistical modelling\n",
    "* Entry points for C/C++/Fortran code \n",
    "\n",
    "As shown above NumPy is typically imported with the shortcut `np`."
   ]
  },
  {
   "cell_type": "code",
   "execution_count": null,
   "metadata": {},
   "outputs": [],
   "source": [
    "import numpy as np"
   ]
  },
  {
   "cell_type": "markdown",
   "metadata": {},
   "source": [
    "### Vectors\n",
    "It is easy to create a **vector** (1D arrays) using the NumPy `array` function."
   ]
  },
  {
   "cell_type": "code",
   "execution_count": 24,
   "metadata": {},
   "outputs": [
    {
     "name": "stdout",
     "output_type": "stream",
     "text": [
      "[0 1 2 3 4 5 6 7 8 9]\n",
      "<class 'numpy.ndarray'>\n"
     ]
    }
   ],
   "source": [
    "my_data = range(10)\n",
    "my_array = np.array(my_data)\n",
    "print(my_array)\n",
    "print(type(my_array))"
   ]
  },
  {
   "cell_type": "markdown",
   "metadata": {},
   "source": [
    "Operations performed on arrays are *vectorised*. For example, if we add a number to an array, it is added to every element in that array."
   ]
  },
  {
   "cell_type": "code",
   "execution_count": 25,
   "metadata": {},
   "outputs": [
    {
     "name": "stdout",
     "output_type": "stream",
     "text": [
      "[ 2  3  4  5  6  7  8  9 10 11]\n",
      "[ 0  4  8 12 16 20 24 28 32 36]\n"
     ]
    }
   ],
   "source": [
    "print(my_array+2)\n",
    "print(my_array*4)"
   ]
  },
  {
   "cell_type": "markdown",
   "metadata": {},
   "source": [
    "When we multiple an array by an array the corresponding elements are multiplied, i.e. the first element in one array is multiplied by the first element in the other array, the second by the second, etc. Hence, the two arrays must be the same size."
   ]
  },
  {
   "cell_type": "code",
   "execution_count": 26,
   "metadata": {},
   "outputs": [
    {
     "name": "stdout",
     "output_type": "stream",
     "text": [
      "[ 0  1  4  9 16 25 36 49 64 81]\n",
      "[  0   4  10  18  28  40  54  70  88 108]\n"
     ]
    }
   ],
   "source": [
    "print(my_array*my_array)\n",
    "print(my_array*range(3,13))"
   ]
  },
  {
   "cell_type": "markdown",
   "metadata": {},
   "source": [
    "A NumPy array, like many Python objects, has attributes associated with it, such as `dtype` (the type of data stored in a NumPy array). To access an attribute of an array, use the syntax `array_name.attribute`.\n"
   ]
  },
  {
   "cell_type": "code",
   "execution_count": 27,
   "metadata": {
    "scrolled": true
   },
   "outputs": [
    {
     "name": "stdout",
     "output_type": "stream",
     "text": [
      "int32\n"
     ]
    }
   ],
   "source": [
    "print(my_array.dtype)"
   ]
  },
  {
   "cell_type": "markdown",
   "metadata": {},
   "source": [
    "**Note:** The syntax is similar to applying a method, but an attribute doesn't have arguments, so we don't include brackets after the attribute name."
   ]
  },
  {
   "cell_type": "markdown",
   "metadata": {},
   "source": [
    "#### Exercise 5\n",
    "Write a function *multiples_three* that creates and returns a 1D NumPy array with the first *n* multiples of 3, where *n* is the function input."
   ]
  },
  {
   "cell_type": "code",
   "execution_count": 30,
   "metadata": {},
   "outputs": [
    {
     "name": "stdout",
     "output_type": "stream",
     "text": [
      "[3]\n",
      "[3, 6]\n",
      "[3, 6, 9]\n",
      "[3, 6, 9, 12]\n",
      "[3, 6, 9, 12, 15]\n",
      "[ 3  6  9 12 15]\n",
      "None\n"
     ]
    }
   ],
   "source": [
    "\n",
    "mylist=[]\n",
    "def multiple_three(n):\n",
    "    for i in range(1,n+1):\n",
    "        mylist.append(i*3)\n",
    "        print(mylist)\n",
    "\n",
    "    op=np.array(mylist)\n",
    "    print(op)\n",
    "\n",
    "print(multiple_three(5))"
   ]
  },
  {
   "cell_type": "markdown",
   "metadata": {},
   "source": [
    "### 2D arrays\n",
    "Multi-dimensional arrays can be created by specifying a nested list or tuple. We will focus only on 2D arrays."
   ]
  },
  {
   "cell_type": "code",
   "execution_count": 31,
   "metadata": {},
   "outputs": [
    {
     "name": "stdout",
     "output_type": "stream",
     "text": [
      "[[ 0  1  2  3  4]\n",
      " [10 10 10 10 10]]\n"
     ]
    }
   ],
   "source": [
    "my_array_2 = np.array([range(0,5),[10]*5])\n",
    "print(my_array_2)"
   ]
  },
  {
   "cell_type": "markdown",
   "metadata": {},
   "source": [
    "Some useful attributes for multi-dimensional arrays are `ndim`, `shape`, and `size`. Run the code below to see these attributes for our 2D array."
   ]
  },
  {
   "cell_type": "code",
   "execution_count": 32,
   "metadata": {},
   "outputs": [
    {
     "name": "stdout",
     "output_type": "stream",
     "text": [
      "2\n",
      "(2, 5)\n",
      "10\n"
     ]
    }
   ],
   "source": [
    "print(my_array_2.ndim)\n",
    "print(my_array_2.shape)\n",
    "print(my_array_2.size)"
   ]
  },
  {
   "cell_type": "markdown",
   "metadata": {},
   "source": [
    "Arrays are indexed in a similar way to lists and tuples. However, for a multi-dimensional array, there is an index for each dimension. For a 2D array, the first index is the row and the second is the column `[row,column]`. \n"
   ]
  },
  {
   "cell_type": "code",
   "execution_count": 33,
   "metadata": {},
   "outputs": [
    {
     "name": "stdout",
     "output_type": "stream",
     "text": [
      "10\n"
     ]
    }
   ],
   "source": [
    "print(my_array_2[1,3])"
   ]
  },
  {
   "cell_type": "markdown",
   "metadata": {},
   "source": [
    "**Remember** indexing in Python starts at zero, so the first entry in the second second row of a 2D array would have an index `[1,0]'"
   ]
  },
  {
   "cell_type": "markdown",
   "metadata": {},
   "source": [
    "We can create arrays of zeros or ones with the commands below. The first argument is the number of rows we wish the array to have, and the second is the number of columns."
   ]
  },
  {
   "cell_type": "code",
   "execution_count": 34,
   "metadata": {},
   "outputs": [
    {
     "name": "stdout",
     "output_type": "stream",
     "text": [
      "[[0. 0. 0. 0. 0. 0.]\n",
      " [0. 0. 0. 0. 0. 0.]\n",
      " [0. 0. 0. 0. 0. 0.]\n",
      " [0. 0. 0. 0. 0. 0.]\n",
      " [0. 0. 0. 0. 0. 0.]]\n",
      "[[1. 1.]\n",
      " [1. 1.]\n",
      " [1. 1.]\n",
      " [1. 1.]\n",
      " [1. 1.]\n",
      " [1. 1.]\n",
      " [1. 1.]\n",
      " [1. 1.]\n",
      " [1. 1.]\n",
      " [1. 1.]]\n"
     ]
    }
   ],
   "source": [
    "print(np.zeros((5,6)))\n",
    "print(np.ones((10,2)))"
   ]
  },
  {
   "cell_type": "markdown",
   "metadata": {},
   "source": [
    "#### Exercise 6\n",
    "Write a function *matrix_index* that returns the entry in the *n*th row and *m*th column of a matrix *X*. The function inputs should be *X*, *n* and *m* (in that order).\n",
    "For example, if $$X = \\begin{pmatrix} 7 & 3 \\\\ 1 & 9 \\end{pmatrix},$$ `matrix_index(X,0,1)` should return 3."
   ]
  },
  {
   "cell_type": "code",
   "execution_count": 43,
   "metadata": {},
   "outputs": [
    {
     "name": "stdout",
     "output_type": "stream",
     "text": [
      "[[7 3]\n",
      " [1 9]]\n",
      "3\n",
      "None\n"
     ]
    }
   ],
   "source": [
    "\n",
    "def matrix_index(X,n,m):\n",
    "    r=X[n,m]\n",
    "    print(r)\n",
    "\n",
    "X=([7,3],[1,9])\n",
    "X=np.array(X)\n",
    "print(X)\n",
    "print(matrix_index(X,0,1))"
   ]
  }
 ],
 "metadata": {
  "kernelspec": {
   "display_name": "Python 3 (ipykernel)",
   "language": "python",
   "name": "python3"
  },
  "language_info": {
   "codemirror_mode": {
    "name": "ipython",
    "version": 3
   },
   "file_extension": ".py",
   "mimetype": "text/x-python",
   "name": "python",
   "nbconvert_exporter": "python",
   "pygments_lexer": "ipython3",
   "version": "3.11.7"
  }
 },
 "nbformat": 4,
 "nbformat_minor": 4
}
