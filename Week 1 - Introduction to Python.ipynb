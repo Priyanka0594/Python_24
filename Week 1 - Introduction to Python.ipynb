{
 "cells": [
  {
   "cell_type": "markdown",
   "metadata": {},
   "source": [
    "# STAT40800 Data Programming with Python\n",
    "## Jake Mac Uilliam\n"
   ]
  },
  {
   "cell_type": "markdown",
   "metadata": {},
   "source": [
    "# Week 1\n",
    "## Introduction to Python"
   ]
  },
  {
   "cell_type": "markdown",
   "metadata": {},
   "source": [
    "Python is an open source, easy to learn programming language. It is significantly faster than R, but not as fast as C-like languages. Python was developed with an emphasis on readability, allowing users to write concise logical code. It supports both object oriented and structured programming, and unlike C-like languages the memory management is automatic. Its high-level data structures allow data to be manipulated with ease.\n",
    "\n",
    "Python has an array of packages and modules. Packages are like expansion packs which add different functionalities. We will predominantly use NumPy, SciPy, pandas and matplotlib.\n"
   ]
  },
  {
   "cell_type": "markdown",
   "metadata": {},
   "source": [
    "#### Important difference between Python and R\n",
    "1. Indentations over braces\n",
    "2. Pass-by-reference\n",
    "3. Indexing started at 0 rather than 1"
   ]
  },
  {
   "cell_type": "markdown",
   "metadata": {},
   "source": [
    "#### Fun fact\n",
    "Python is named after the British comedy group [Monty Python](https://en.wikipedia.org/wiki/Monty_Python). While developing Python, Guido van Rossum was reading the scripts from [Monty Python's Flying Circus](https://en.wikipedia.org/wiki/Monty_Python%27s_Flying_Circus)."
   ]
  },
  {
   "cell_type": "markdown",
   "metadata": {},
   "source": [
    "## Basic operations\n",
    "We showed in the *Jupyter Tips* Notebook that Python has the ability to preform basic arithmetic"
   ]
  },
  {
   "cell_type": "code",
   "execution_count": null,
   "metadata": {},
   "outputs": [],
   "source": [
    "7+5*3"
   ]
  },
  {
   "cell_type": "code",
   "execution_count": null,
   "metadata": {},
   "outputs": [],
   "source": [
    "6/4"
   ]
  },
  {
   "cell_type": "markdown",
   "metadata": {},
   "source": [
    "Other useful mathematical operations include:\n",
    "* `**` : to the power of, e.g. `3**2` is $3^2=9$\n",
    "* `//` : integer division, e.g. `14//3` would return $4$\n",
    "* `%` : returns remainder of division, e.g. `14%3` would return $2$\n"
   ]
  },
  {
   "cell_type": "code",
   "execution_count": null,
   "metadata": {},
   "outputs": [],
   "source": [
    "4**5"
   ]
  },
  {
   "cell_type": "code",
   "execution_count": null,
   "metadata": {},
   "outputs": [],
   "source": [
    "16//3"
   ]
  },
  {
   "cell_type": "code",
   "execution_count": null,
   "metadata": {},
   "outputs": [],
   "source": [
    "16%3"
   ]
  },
  {
   "cell_type": "markdown",
   "metadata": {},
   "source": [
    "## Variables\n",
    "In practice, we will want to store and manipulate information using variables. For example, we can assign the value of `2+3` to the variable $x$ and then print $x$. The `=` sign is an assignment operator. The below code does the same thing as before, but allows us to store $x$ for later use."
   ]
  },
  {
   "cell_type": "code",
   "execution_count": null,
   "metadata": {},
   "outputs": [],
   "source": [
    "x = 2+3\n",
    "print(x)"
   ]
  },
  {
   "cell_type": "markdown",
   "metadata": {},
   "source": [
    "\n",
    "In Python, variables are designed to hold specific types of information. For example, after the command above is executed, the variable $x$ is an integer. There are several types of information that can be stored:\n",
    "\n",
    "* *Integer:* An integer is a number without a fractional part, e.g. -4, 5, 0, -3.\n",
    "* *Float:* Any rational number, e.g. 3.432.\n",
    "* *Boolean:* Variables of this type can be either True or False.\n",
    "* *String:* Any sequence of characters, e.g. “hello“.\n",
    "\n",
    "The string “5” and integer 5 are completely different entities to Python, despite their similar appearance. You’ll see the importance of this in the next section.\n",
    "\n",
    "To check a variable type use the function `type`."
   ]
  },
  {
   "cell_type": "code",
   "execution_count": null,
   "metadata": {},
   "outputs": [],
   "source": [
    "print(type(x))"
   ]
  },
  {
   "cell_type": "markdown",
   "metadata": {},
   "source": [
    "Let's try other variable types:"
   ]
  },
  {
   "cell_type": "code",
   "execution_count": null,
   "metadata": {},
   "outputs": [],
   "source": [
    "a = True\n",
    "b = 5\n",
    "c = 3.2\n",
    "d = \"Python\"\n",
    "print(type(a))\n",
    "print(type(b))\n",
    "print(type(c))\n",
    "print(type(d))"
   ]
  },
  {
   "cell_type": "markdown",
   "metadata": {},
   "source": [
    "#### Exercise 1 \n",
    "\n",
    "Write a piece of code that computes `4+1` and stores it in a variable X and prints out the value of X, then computes `8-2` and stores it in Y and prints out the value of Y (4 lines)."
   ]
  },
  {
   "cell_type": "code",
   "execution_count": null,
   "metadata": {},
   "outputs": [],
   "source": []
  },
  {
   "cell_type": "markdown",
   "metadata": {},
   "source": [
    "## Indexing and slicing\n",
    "A string is made up of characters, which you may want to extract individually. Square brackets are used to access individual characters of the string. **Indexing in Python starts at zero**, so if `word` is a string `word[1]` returns the second character in rather than the first, `word[0]` will return the first entry. This will also be important when we consider collections of variables."
   ]
  },
  {
   "cell_type": "code",
   "execution_count": null,
   "metadata": {},
   "outputs": [],
   "source": [
    "word = 'introduction'\n",
    "print(word[1])\n",
    "print(word[3])"
   ]
  },
  {
   "cell_type": "markdown",
   "metadata": {},
   "source": [
    "Using a negative number as the index counts from the right instead"
   ]
  },
  {
   "cell_type": "code",
   "execution_count": null,
   "metadata": {},
   "outputs": [],
   "source": [
    "print(word[-1])\n",
    "print(word[-3])"
   ]
  },
  {
   "cell_type": "markdown",
   "metadata": {},
   "source": [
    "The colon operator can be used to access multiple characters. This is known as *slicing*. Run the code below to see how it works:"
   ]
  },
  {
   "cell_type": "code",
   "execution_count": null,
   "metadata": {
    "scrolled": true
   },
   "outputs": [],
   "source": [
    "print(word[5:9])\n",
    "print(word[:5])\n",
    "print(word[8:])\n",
    "print(word[:])\n",
    "print(word[:-5])"
   ]
  },
  {
   "cell_type": "markdown",
   "metadata": {},
   "source": [
    "#### Exercise 2\n",
    "Write a piece of code that stores the string 'programming' as a variable and prints out the 8th letter (m), the 4th to 7th letters (gram) and the last 3 letters (ing) (4 lines of code).\n"
   ]
  },
  {
   "cell_type": "code",
   "execution_count": null,
   "metadata": {},
   "outputs": [],
   "source": []
  },
  {
   "cell_type": "markdown",
   "metadata": {},
   "source": [
    "## Collections of variables\n",
    "\n",
    "Variables store a single piece of information, but more often than not, you will need to store more than one piece of information. Python comes with a number of data structures that allow us store collections of variables.\n",
    "The most commonly used built-in data structures are \n",
    "*lists*, *tuples* and *dictionaries*. We'll look quickly at each of these and how they work.\n",
    "\n",
    "### Lists\n",
    "\n",
    "Lists are probably the handiest and most flexible compound data type. They are declared with square brackets [ ].  As with strings, individual elements of a list can be selected using the syntax `a[ind]`.\n",
    "\n",
    "Create a list:"
   ]
  },
  {
   "cell_type": "code",
   "execution_count": null,
   "metadata": {},
   "outputs": [],
   "source": [
    "numbers = [2,5,3,9,1,5,7,6,8]\n",
    "print(numbers)\n",
    "print(type(numbers))"
   ]
  },
  {
   "cell_type": "markdown",
   "metadata": {},
   "source": [
    "Access individual elements:"
   ]
  },
  {
   "cell_type": "code",
   "execution_count": null,
   "metadata": {},
   "outputs": [],
   "source": [
    "print('The first item is', numbers[0])\n",
    "print('The last item is', numbers[-1])"
   ]
  },
  {
   "cell_type": "markdown",
   "metadata": {},
   "source": [
    "Lists are mutable, which means that the individual elements can be altered"
   ]
  },
  {
   "cell_type": "code",
   "execution_count": null,
   "metadata": {},
   "outputs": [],
   "source": [
    "numbers[1] = 20\n",
    "print(numbers)"
   ]
  },
  {
   "cell_type": "markdown",
   "metadata": {},
   "source": [
    "#### Methods for lists\n",
    "Methods are operations that can be applied to an object, such as a list. The syntax for methods is `object.method(arguments)`. Below are examples of some methods that can be applied to lists. Run the code to see what each method does."
   ]
  },
  {
   "cell_type": "code",
   "execution_count": null,
   "metadata": {
    "scrolled": true
   },
   "outputs": [],
   "source": [
    "letters = ['c','y','a','g','e','A','k','a','r','2','t','h','f','m']\n",
    "\n",
    "print(letters.count('a'))\n",
    "\n",
    "letters.insert(2,'b')\n",
    "print(letters)\n",
    "\n",
    "letters.remove('g')\n",
    "print(letters)\n",
    "\n",
    "letters.sort()\n",
    "print(letters)\n",
    "\n",
    "letters_new = ['n','j','s','e']\n",
    "letters.extend(letters_new)\n",
    "print(letters)"
   ]
  },
  {
   "cell_type": "markdown",
   "metadata": {},
   "source": [
    "**Note:** The method changes the object it is applied to, but has no output. The object must be printed afterwards to see the change."
   ]
  },
  {
   "cell_type": "markdown",
   "metadata": {},
   "source": [
    "**TIP:** To see all of the methods an object has, use the `dir` function and look at the things that do not start with `__`"
   ]
  },
  {
   "cell_type": "code",
   "execution_count": null,
   "metadata": {},
   "outputs": [],
   "source": [
    "dir(letters)"
   ]
  },
  {
   "cell_type": "markdown",
   "metadata": {},
   "source": [
    "If you are unsure what a particular method does, place a question mark after the method name, i.e. `object.method?`. When you run the code the help file will appear at the bottom of your browser."
   ]
  },
  {
   "cell_type": "code",
   "execution_count": null,
   "metadata": {},
   "outputs": [],
   "source": [
    "letters.sort?"
   ]
  },
  {
   "cell_type": "markdown",
   "metadata": {},
   "source": [
    "#### Exercise 3\n",
    "\n",
    "Amy is 1.65m, Brian is 1.7m, Conor is 1.95m, David is 1.8m and Edel in 1.75m.\n",
    "1. Store these heights in a list called `heights`.\n",
    "2. Append Frank's height (1.9m) to the list.\n",
    "3. Print the last height in the list.\n",
    "\n",
    "__Bonus__\n",
    "\n",
    "Extract the last value in two different ways: first, by using the index for\n",
    "the last item in the list, and second, presuming that you do not know how long the list is.\n",
    "\n",
    "__HINT:__ `len()` can be used to find the length of a collection\n"
   ]
  },
  {
   "cell_type": "code",
   "execution_count": null,
   "metadata": {},
   "outputs": [],
   "source": [
    "len(letters)"
   ]
  },
  {
   "cell_type": "markdown",
   "metadata": {},
   "source": [
    "### Tuples\n",
    "\n",
    "Tuples are similar to lists, but the are **immutable** (elements cannot be changed). Tuples are created using round brackets (). We still use square brackets to access individual elements."
   ]
  },
  {
   "cell_type": "code",
   "execution_count": null,
   "metadata": {},
   "outputs": [],
   "source": [
    "people = ('Adam','Ben','Charlie')\n",
    "print(people[2])"
   ]
  },
  {
   "cell_type": "code",
   "execution_count": null,
   "metadata": {},
   "outputs": [],
   "source": [
    "people[2] = 'Daniel'  # this will result in an error message"
   ]
  },
  {
   "cell_type": "markdown",
   "metadata": {},
   "source": [
    "### Dictionaries\n",
    "\n",
    "We use dictionaries (dicts for short) when we want to store and retrieve things by their names rather their position. Each item is a *key:value* pair. The keys and the values can be numbers or strings. Dictionaries are declared using {}."
   ]
  },
  {
   "cell_type": "code",
   "execution_count": null,
   "metadata": {},
   "outputs": [],
   "source": [
    "weight = {'Adam' : 97,'Ben' : 105,'Charlie' : 80}\n",
    "\n",
    "print(weight['Adam'])"
   ]
  },
  {
   "cell_type": "markdown",
   "metadata": {},
   "source": [
    "Dicts are mutable so we can add to change individual elements, and also add to them"
   ]
  },
  {
   "cell_type": "code",
   "execution_count": null,
   "metadata": {},
   "outputs": [],
   "source": [
    "weight['Daniel'] = 86\n",
    "print(weight)"
   ]
  },
  {
   "cell_type": "markdown",
   "metadata": {},
   "source": [
    "#### Exercise 4\n",
    "\n",
    "1. Take the heights from Exercise 3, and store them in a dict instead of a list. Use the names as the keys.\n",
    "2. Print Conor's height."
   ]
  },
  {
   "cell_type": "code",
   "execution_count": null,
   "metadata": {},
   "outputs": [],
   "source": []
  },
  {
   "cell_type": "markdown",
   "metadata": {},
   "source": [
    "## Pass-by-reference\n",
    "If we create a new object `b` from `a`, changing `b` will also change `a`. This is known as **pass-by-reference**. "
   ]
  },
  {
   "cell_type": "code",
   "execution_count": null,
   "metadata": {},
   "outputs": [],
   "source": [
    "fruit = ['banana','apple','orange']\n",
    "fruit_copy = fruit\n",
    "print(\"original:\", fruit)\n",
    "print(\"copy:\", fruit_copy)\n",
    "fruit_copy.append('mango')\n",
    "print(\"copy after we append 'mango':\", fruit_copy)\n",
    "print(\"original after we change the copy:\", fruit)"
   ]
  },
  {
   "cell_type": "markdown",
   "metadata": {},
   "source": [
    "__TIP:__ Use `copy` to create a distinct copy that will not alter the original object"
   ]
  },
  {
   "cell_type": "code",
   "execution_count": null,
   "metadata": {},
   "outputs": [],
   "source": [
    "num_list = [1,2,3,4,5,6] \n",
    "num_list_copy = num_list.copy()\n",
    "print('original:', num_list)\n",
    "num_list_copy.extend([7,8,9,10])\n",
    "print('copy:', num_list_copy)\n",
    "print('original list after we change the copy:', num_list)"
   ]
  },
  {
   "cell_type": "code",
   "execution_count": null,
   "metadata": {},
   "outputs": [],
   "source": []
  }
 ],
 "metadata": {
  "kernelspec": {
   "display_name": "Python 3 (ipykernel)",
   "language": "python",
   "name": "python3"
  },
  "language_info": {
   "codemirror_mode": {
    "name": "ipython",
    "version": 3
   },
   "file_extension": ".py",
   "mimetype": "text/x-python",
   "name": "python",
   "nbconvert_exporter": "python",
   "pygments_lexer": "ipython3",
   "version": "3.10.13"
  }
 },
 "nbformat": 4,
 "nbformat_minor": 4
}
