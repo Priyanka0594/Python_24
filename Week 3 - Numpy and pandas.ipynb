{
 "cells": [
  {
   "attachments": {},
   "cell_type": "markdown",
   "metadata": {},
   "source": [
    "# STAT40800 Data Programming with Python\n",
    "## Jake Mac Uilliam\n",
    "\n",
    "\n",
    "# Week 3\n",
    "\n",
    "Last week we introduced modules and packages and began to look at the NumPy package. NumPy is particularly good for linear algebra and manipulating array. This week we will delve a little deeper into NumPy and also introduce the pandas package."
   ]
  },
  {
   "cell_type": "code",
   "execution_count": null,
   "metadata": {},
   "outputs": [],
   "source": [
    "import numpy as np"
   ]
  },
  {
   "cell_type": "markdown",
   "metadata": {},
   "source": [
    "## Linear algebra in Python\n",
    "We will predominantly be using NumPy for linear algebra, but you should be aware of SciPy which shares a lot of NumPy's functionalities.\n",
    "\n",
    "* The main goal of NumPy is to enable computation with arrays, such as creating, editing, sorting, etc\n",
    "* The main goal of SciPy is to enable scientific computation with data\n",
    "* They both contain functions for linear algebra, almost always with the same name and functionality\n",
    "* We're going to continue using the NumPy linear algebra functions, but be aware that most commands could be re-run with the SciPy package instead\n",
    "\n",
    "Last week we encountered some of the NumPy functions for creating matrices:"
   ]
  },
  {
   "cell_type": "code",
   "execution_count": null,
   "metadata": {},
   "outputs": [],
   "source": [
    "A = np.array((range(5),[10]*5))\n",
    "B = np.random.rand(5,5)\n",
    "C = np.ones((5,2))\n",
    "D = np.eye(5)"
   ]
  },
  {
   "cell_type": "code",
   "execution_count": null,
   "metadata": {},
   "outputs": [],
   "source": [
    "print(\"A= \", A)\n",
    "print(\"B= \", B)\n",
    "print(\"C= \", C)\n",
    "print(\"D= \", D)"
   ]
  },
  {
   "cell_type": "markdown",
   "metadata": {},
   "source": [
    "### Matrix multiplication\n",
    "We saw last week that we could preform element-by-element multiplication using the multiplication operator `*`. To perform matrix multiplication we use `dot`. \n",
    "\n",
    "**Note:** If $X$ and $Y$ are matrices $XY$ is not necessarily equal to $YX$. The order is important for matrix multiplication. Additionally, the number of columns in the first matrix must match the number of rows in the second matrix."
   ]
  },
  {
   "cell_type": "code",
   "execution_count": null,
   "metadata": {},
   "outputs": [],
   "source": [
    "print(A.dot(B))"
   ]
  },
  {
   "cell_type": "markdown",
   "metadata": {},
   "source": [
    "`dot` is a NumPy function and method. It can be used, as above, as a method, or as a function, shown below. When used as a method, it is applied to a NumPy array with an additional array as an input argument. When used as a function, we must use the NumPy prefix `np` and give two input arguments, the two arrays to be multiplied. "
   ]
  },
  {
   "cell_type": "code",
   "execution_count": null,
   "metadata": {},
   "outputs": [],
   "source": [
    "print(np.dot(A,B))"
   ]
  },
  {
   "cell_type": "markdown",
   "metadata": {},
   "source": [
    "In NumPy, many operations are implemented as both functions and methods. Both approaches give the same answer. It is a matter of personal preference which approach you use. \n",
    "\n",
    "In general, methods alter the object they are applied to, although this is not typically the case for NumPy methods. While functions leave the object itself unchanged and simply output the result of the operation.\n",
    "\n",
    "#### Exercise 1\n",
    "Create the following matrices in Python,\n",
    "$$X=\\begin{pmatrix} 1&2&3&4 \\\\ 2&4&6&8 \\\\ 3&6&9&12 \\end{pmatrix}, \\hspace{0.5cm}Y=\\begin{pmatrix} 2&2&2 \\\\ 2&2&2 \\\\ 2&2&2 \\\\2&2&2 \\end{pmatrix},$$\n",
    "and compute the matrix product $XY$ and $YX$. Do they give the same result?"
   ]
  },
  {
   "cell_type": "code",
   "execution_count": null,
   "metadata": {},
   "outputs": [],
   "source": []
  },
  {
   "cell_type": "markdown",
   "metadata": {},
   "source": [
    "### Other useful matrix commands\n",
    "The transpose of a matrix is an attribute of the matrix, accessed using `.T`. We can allow apply the transpose method to find the transpose."
   ]
  },
  {
   "cell_type": "code",
   "execution_count": null,
   "metadata": {},
   "outputs": [],
   "source": [
    "print(A.T)\n",
    "print(A.transpose())"
   ]
  },
  {
   "cell_type": "markdown",
   "metadata": {},
   "source": [
    "We can extract the entries along the diagonal using the NumPy `diag` function or by applying the `diagonal` method to a NumPy array. Similarly, `trace` will compute the trace of the matrix (sum of diagonal entries)."
   ]
  },
  {
   "cell_type": "code",
   "execution_count": null,
   "metadata": {},
   "outputs": [],
   "source": [
    "print(np.diag(D))\n",
    "print(D.diagonal())\n",
    "print(D.trace())"
   ]
  },
  {
   "cell_type": "markdown",
   "metadata": {},
   "source": [
    "Many matrix operations live within the linear algebra module of NumPy. Modules can be imported wih shortcuts, just like packages."
   ]
  },
  {
   "cell_type": "code",
   "execution_count": null,
   "metadata": {},
   "outputs": [],
   "source": [
    "import numpy.linalg as npl"
   ]
  },
  {
   "cell_type": "markdown",
   "metadata": {},
   "source": [
    "Now we can use functions from this module with the prefix `npl`. Below are a couple of examples.\n",
    "\n",
    "**Inverse**"
   ]
  },
  {
   "cell_type": "code",
   "execution_count": null,
   "metadata": {},
   "outputs": [],
   "source": [
    "print(npl.inv(B))"
   ]
  },
  {
   "cell_type": "markdown",
   "metadata": {},
   "source": [
    "**Determinant**"
   ]
  },
  {
   "cell_type": "code",
   "execution_count": null,
   "metadata": {},
   "outputs": [],
   "source": [
    "print(npl.det(B))"
   ]
  },
  {
   "cell_type": "markdown",
   "metadata": {},
   "source": [
    "**Eigenvalues**"
   ]
  },
  {
   "cell_type": "code",
   "execution_count": null,
   "metadata": {
    "scrolled": true
   },
   "outputs": [],
   "source": [
    "print(npl.eigvals(B))"
   ]
  },
  {
   "cell_type": "markdown",
   "metadata": {},
   "source": [
    "### Matrix decomposition"
   ]
  },
  {
   "cell_type": "markdown",
   "metadata": {},
   "source": [
    "Decomposing matrices is a very common operation in multivariate analysis. NumPy performs the usual Singular Value Decomposition (SVD) via `svd`, QR decomposition via `qr`, and Eigen decomposition via `eig`, as well as many others. Below is an illustration of QR decomposition:"
   ]
  },
  {
   "cell_type": "code",
   "execution_count": null,
   "metadata": {},
   "outputs": [],
   "source": [
    "M = np.array([[3,6,1],[2,3,7],[9,2,5]])\n",
    "my_qr = npl.qr(M)                       # Extract matrices\n",
    "print(my_qr[0])                         # Q matrix \n",
    "print(my_qr[1])                         # R matrix\n",
    "print(my_qr[0].dot(my_qr[1]))           # Check decomposition"
   ]
  },
  {
   "cell_type": "markdown",
   "metadata": {},
   "source": [
    "### Solving matrix equations\n",
    "A matrix equation is an equation of the form $$AX=B,$$where $A$ is an $n\\times n$ matrix, $X$ is an $n\\times m$ matrix and $B$ is an $n\\times m$ matrix. We will typically be asked to solve for $X$ given a particular $A$ and $B$. \n",
    "\n",
    "Many novices when implementing the code take this as a requirement to call `npl.inv`, as $X=A^{-1}B$.\n",
    "However, inverting matrices is a *very computationally demanding* task. Calling `npl.solve` is almost certainly faster."
   ]
  },
  {
   "cell_type": "code",
   "execution_count": null,
   "metadata": {},
   "outputs": [],
   "source": [
    "A = np.random.rand(5,5)\n",
    "B = np.random.rand(5,2)\n",
    "print(npl.solve(A,B))"
   ]
  },
  {
   "cell_type": "code",
   "execution_count": null,
   "metadata": {},
   "outputs": [],
   "source": [
    "X=npl.solve(A,B)\n",
    "print(A.dot(X))\n",
    "print(B)"
   ]
  },
  {
   "cell_type": "markdown",
   "metadata": {},
   "source": [
    "We can use the iPython (interactive Python) command `timeit` to time how long it takes particular pieces of code to run. iPython commands are called with a `%`. `timeit` runs the code multiple times to get an accurate representation of how long the code takes to run."
   ]
  },
  {
   "cell_type": "code",
   "execution_count": null,
   "metadata": {},
   "outputs": [],
   "source": [
    "%timeit npl.inv(A).dot(B)"
   ]
  },
  {
   "cell_type": "code",
   "execution_count": null,
   "metadata": {},
   "outputs": [],
   "source": [
    "%timeit npl.solve(A,B)"
   ]
  },
  {
   "cell_type": "markdown",
   "metadata": {},
   "source": [
    "For smaller matrices there isn't a large time difference between the two approaches. Try increasing the number of rows and columns in $A$ and $B$ and see how long the two approaches take."
   ]
  },
  {
   "cell_type": "markdown",
   "metadata": {},
   "source": [
    "#### Exercise 2\n",
    "Write the system of equations\n",
    "$$ \\left\\lbrace \\begin{array}{l}2x_1+x_2-7x_3 = 10 \\\\ 6x_1-2x_2-x_3 = 5 \\\\ x_1-5x_2+2x_3 = 8 \\end{array}\\right. $$\n",
    "as a matrix system and use the solve function to solve for $x = [x_1, x_2, x_3]$."
   ]
  },
  {
   "cell_type": "code",
   "execution_count": null,
   "metadata": {},
   "outputs": [],
   "source": []
  },
  {
   "cell_type": "markdown",
   "metadata": {},
   "source": [
    "## Random sampling\n",
    "When performing statistical analysis we often make use of\n",
    "*probability distributions*. Common probability distributions include:\n",
    "* The uniform distribution (both discrete and continuous)\n",
    "* The normal distribution\n",
    "* The binomial distribution\n",
    "* The Poisson distribution\n",
    "* The gamma distribution\n",
    "\n",
    "Make sure you're familiar with these so you can follow the next section and later material we cover.\n",
    "\n",
    "In Python, random sampling is achieved using NumPy's random module. We will import it with the shortcut `npr`."
   ]
  },
  {
   "cell_type": "code",
   "execution_count": null,
   "metadata": {},
   "outputs": [],
   "source": [
    "import numpy.random as npr"
   ]
  },
  {
   "cell_type": "markdown",
   "metadata": {},
   "source": [
    "**Note:** We used the random module above to create matrices of random number, but did not use the shortcut as we had not defined it. \n",
    "\n",
    "Most of the things discussed below can also be acheived using the [random package](https://docs.python.org/3/library/random.html). We will focus soley on on NumPy's random module as it has greater functionality. \n",
    "\n",
    "### Sampling from random distributions\n",
    "For the standard normal $N(0,1)$ and standard uniform $U(0,1)$ distribution, you only need to give NumPy the shape of the array you want."
   ]
  },
  {
   "cell_type": "code",
   "execution_count": null,
   "metadata": {},
   "outputs": [],
   "source": [
    "print(npr.randn(3,4))\n",
    "print(npr.rand(2,2))"
   ]
  },
  {
   "cell_type": "markdown",
   "metadata": {},
   "source": [
    "Other distributions require additional parameters, such as the mean $\\mu$ and standard deviation $\\sigma$ for the non-standard normal distribution $N(\\mu,\\sigma^2)$. When sampling from these distributions the shape is specified, as a tuple, using the size argument."
   ]
  },
  {
   "cell_type": "code",
   "execution_count": null,
   "metadata": {},
   "outputs": [],
   "source": [
    "print(npr.normal(10,2,size=(3,2)))"
   ]
  },
  {
   "cell_type": "markdown",
   "metadata": {},
   "source": [
    "If one wants to create an array of integers between 0 and 100 (excluded) extracted from a uniform distribution one can use the `randint` function as shown below. Again, the shape is specified as a tuple."
   ]
  },
  {
   "cell_type": "code",
   "execution_count": null,
   "metadata": {},
   "outputs": [],
   "source": [
    "print(npr.randint(0,100,size=(2,6)))"
   ]
  },
  {
   "cell_type": "markdown",
   "metadata": {},
   "source": [
    "### Taking a random sample\n",
    "Often you have a list or array and you want to take a random rearrange of the entries. The NumPy random functions `permutation` and `shuffle` will do this for you. Permutation returns the random sample but leaves the original array unchanged, while shuffle changes the existing array."
   ]
  },
  {
   "cell_type": "code",
   "execution_count": null,
   "metadata": {},
   "outputs": [],
   "source": [
    "x = np.array(range(11))\n",
    "print(npr.permutation(x))\n",
    "print(x)"
   ]
  },
  {
   "cell_type": "code",
   "execution_count": null,
   "metadata": {},
   "outputs": [],
   "source": [
    "npr.shuffle(x)\n",
    "print(x)"
   ]
  },
  {
   "cell_type": "markdown",
   "metadata": {},
   "source": [
    "If you want to randomly select some of the entries from an array, you should use the `choice` function."
   ]
  },
  {
   "cell_type": "code",
   "execution_count": null,
   "metadata": {},
   "outputs": [],
   "source": [
    "print(npr.choice(x,2))"
   ]
  },
  {
   "cell_type": "markdown",
   "metadata": {},
   "source": [
    "### Random seed\n",
    "In practice, random number generators are pseudo-random. They rely on a deterministic algorithm and an initial value, known as a seed. Different seeds will produce different *seemingly random* results. Most random number generator uses the current system time as the default seed. Hence, every time you run the command `npr.rand()` you get a different \"random\" number.\n",
    "\n",
    "When simulating data for checking or debugging purposes, we typically want to get the same random values every time we run the code. As such, it is useful to specify the seed value yourself. This can be done using the command `npr.seed(s)`, where the seed value *s* is given as an integer. Now every time you run the code below you get the same \"random\" number."
   ]
  },
  {
   "cell_type": "code",
   "execution_count": null,
   "metadata": {},
   "outputs": [],
   "source": [
    "npr.seed(123)\n",
    "print(npr.rand())"
   ]
  },
  {
   "cell_type": "markdown",
   "metadata": {},
   "source": [
    "**Note:** Using the seed command from the random package rather than NumPy's random module does not set the seed for functions/methods from NumPy's random module, and vice versa.\n",
    "\n",
    "#### Exercise 3\n",
    "Write a function `random_matrix` that outputs a matrix of random integers for a given seed. The function should have 5 arguments; the seed value $s$, the upper $u$ and lower $l$ bound for the range to sample over, and the number of rows $n$ and  columns $m$. The output should be an array with $n$ rows and $m$ columns, filled with integers between $l$ (inclusive) and $u$ (exclusive)."
   ]
  },
  {
   "cell_type": "code",
   "execution_count": null,
   "metadata": {},
   "outputs": [],
   "source": []
  },
  {
   "cell_type": "markdown",
   "metadata": {},
   "source": [
    "## Pandas\n",
    "Pandas is the main data analysis package we will use throughout this module. The two basic building blocks of pandas are the structures *Series* and *DataFrame*. We import these functions separately to save typing the prefix every time we call them."
   ]
  },
  {
   "cell_type": "code",
   "execution_count": null,
   "metadata": {},
   "outputs": [],
   "source": [
    "import pandas as pd\n",
    "from pandas import Series, DataFrame"
   ]
  },
  {
   "cell_type": "markdown",
   "metadata": {},
   "source": [
    "### Series\n",
    "A *Series* is a 1D data object, like a vector or 1D NumPy array. We use the `Series` function to create a Series from a list, tuple or dict.\n",
    "\n",
    "Printing out the Series, we see that the *index* is given along the left-hand side."
   ]
  },
  {
   "cell_type": "code",
   "execution_count": null,
   "metadata": {},
   "outputs": [],
   "source": [
    "my_series = Series([1,2,3,4])\n",
    "print(my_series)"
   ]
  },
  {
   "cell_type": "markdown",
   "metadata": {},
   "source": [
    "The *index* and *values* are attributes of the Series accessed using `.index` and `.values`, respectively."
   ]
  },
  {
   "cell_type": "code",
   "execution_count": null,
   "metadata": {},
   "outputs": [],
   "source": [
    "print(my_series.index)\n",
    "print(my_series.values)"
   ]
  },
  {
   "cell_type": "markdown",
   "metadata": {},
   "source": [
    "Series are elements are accessed and sliced in the usual way."
   ]
  },
  {
   "cell_type": "code",
   "execution_count": null,
   "metadata": {},
   "outputs": [],
   "source": [
    "print(my_series[2])"
   ]
  },
  {
   "cell_type": "code",
   "execution_count": null,
   "metadata": {},
   "outputs": [],
   "source": [
    "print(my_series[1:3])"
   ]
  },
  {
   "cell_type": "markdown",
   "metadata": {},
   "source": [
    "Series are *mutable*, but the indices are not."
   ]
  },
  {
   "cell_type": "code",
   "execution_count": null,
   "metadata": {},
   "outputs": [],
   "source": [
    "my_series[1]=5\n",
    "print(my_series)"
   ]
  },
  {
   "cell_type": "code",
   "execution_count": null,
   "metadata": {},
   "outputs": [],
   "source": [
    "my_series.index[1]=5"
   ]
  },
  {
   "cell_type": "markdown",
   "metadata": {},
   "source": [
    "A key advantage of Series and DataFrames is that the you can specify index, as with a dict. "
   ]
  },
  {
   "cell_type": "code",
   "execution_count": null,
   "metadata": {},
   "outputs": [],
   "source": [
    "my_series_2 = Series([6, 9, 2, 5],index=['a', 'd', 'b', 'c'])\n",
    "print(my_series_2)"
   ]
  },
  {
   "cell_type": "markdown",
   "metadata": {},
   "source": [
    "Elements are accessed in the same was as for a dict."
   ]
  },
  {
   "cell_type": "code",
   "execution_count": null,
   "metadata": {},
   "outputs": [],
   "source": [
    "print(my_series_2['c'])"
   ]
  },
  {
   "cell_type": "markdown",
   "metadata": {},
   "source": [
    "We can also use *Boolean indexing* to return elements that meet a particular condition."
   ]
  },
  {
   "cell_type": "code",
   "execution_count": null,
   "metadata": {},
   "outputs": [],
   "source": [
    "print(my_series_2 > 5)"
   ]
  },
  {
   "cell_type": "code",
   "execution_count": null,
   "metadata": {},
   "outputs": [],
   "source": [
    "ms2_ind = my_series_2 > 5\n",
    "print(my_series_2[ms2_ind])"
   ]
  },
  {
   "cell_type": "markdown",
   "metadata": {},
   "source": [
    "Adding two Series creates a new Series, with a line for each unique index. If the index exists in both Series, the values are added. Otherwise, the entry for that index is NaN, which stands for *Not a Number*."
   ]
  },
  {
   "cell_type": "code",
   "execution_count": null,
   "metadata": {},
   "outputs": [],
   "source": [
    "my_series_3 = Series([1,2,3,4,5],index=['e', 'a', 'd', 'c','f'])\n",
    "print(my_series_2**my_series_3)"
   ]
  },
  {
   "cell_type": "markdown",
   "metadata": {},
   "source": [
    "The same holds of subtraction, multiplication and division."
   ]
  },
  {
   "cell_type": "markdown",
   "metadata": {},
   "source": [
    "#### Exercise 4\n",
    "Write a function `multiples_five` that create a pandas Series where the entries are the multiples of 5 and the index corresponds to which multiple of 5 the entry in that row is. The function should have one input argument $max$, and the returned Series should include all multiples of 5 up to (but not including) $max$. For example, `multiples_five(24)` should return the Series with the entries 5, 10, 15, 20 and corresponding indices 1, 2, 3, 4."
   ]
  },
  {
   "cell_type": "code",
   "execution_count": null,
   "metadata": {},
   "outputs": [],
   "source": []
  },
  {
   "cell_type": "markdown",
   "metadata": {},
   "source": [
    "### DataFrames\n",
    "\n",
    "A DataFrame is the two-dimensional version of a Series. To create a DataFrame directly, simply pass a nested list or a dict to the function `DataFrame`."
   ]
  },
  {
   "cell_type": "code",
   "execution_count": null,
   "metadata": {
    "scrolled": true
   },
   "outputs": [],
   "source": [
    "dict_1 = {'a': np.arange(5),'b': npr.rand(5),'c': npr.randint(0,10,size=(5))}\n",
    "df_1 = DataFrame(dict_1)\n",
    "print(df_1)"
   ]
  },
  {
   "cell_type": "markdown",
   "metadata": {},
   "source": [
    "As with a Series, we can also specify the index when we create a DataFrame. We can even use one of the *key:value* pairs from our dict as the index."
   ]
  },
  {
   "cell_type": "code",
   "execution_count": null,
   "metadata": {},
   "outputs": [],
   "source": [
    "iphone_dict = {'Name': ['iPhone', 'iPhone 3G', 'iPhone 3GS', 'iPhone 4', 'iPhone 4S', 'iPhone 5', 'iPhone 5C', 'iPhone 5S'],\n",
    "    'Memory_MB': [128, 128, 256, 512, 512, 1024, 1024, 1024],\n",
    "    'Weight_g': [135, 133, 135, 137, 140, 112, 132, 112],\n",
    "    'Camera_MP': [2, 2, 3, 5, 8, 8, 8, 8],\n",
    "    'Year': [2007, 2008, 2009, 2010, 2011, 2012, 2013, 2013] }\n",
    "iphone_df = DataFrame(iphone_dict,index=iphone_dict['Name'],columns=['Memory_MB','Weight_g','Camera_MP','Year'])\n",
    "print(iphone_df)"
   ]
  },
  {
   "cell_type": "markdown",
   "metadata": {},
   "source": [
    "The columns are attributes of the DataFrame and can be accessed using the syntax `df.column`, where *df* is the name of the DataFrame and *column* is the name of the column you wish to access. You can also access columns with the syntax `df['column']`."
   ]
  },
  {
   "cell_type": "code",
   "execution_count": null,
   "metadata": {},
   "outputs": [],
   "source": [
    "print(iphone_df.Memory_MB)"
   ]
  },
  {
   "cell_type": "code",
   "execution_count": null,
   "metadata": {},
   "outputs": [],
   "source": [
    "print(iphone_df['Weight_g'])"
   ]
  },
  {
   "cell_type": "markdown",
   "metadata": {},
   "source": [
    "To access parts of a DataFrame we use `iloc` and `loc`. `iloc` is used to access a column or row based on its integer position, where as `loc` uses the label associated with it. When using `iloc` or `loc` the first index specifies the row and the second the column. If only one index is given, all entries for the row in question are returned."
   ]
  },
  {
   "cell_type": "code",
   "execution_count": null,
   "metadata": {},
   "outputs": [],
   "source": [
    "print(iphone_df.iloc[0])"
   ]
  },
  {
   "cell_type": "code",
   "execution_count": null,
   "metadata": {},
   "outputs": [],
   "source": [
    "print(iphone_df.loc['iPhone 5C'])"
   ]
  },
  {
   "cell_type": "code",
   "execution_count": null,
   "metadata": {},
   "outputs": [],
   "source": [
    "print(iphone_df.iloc[2:4,:2])"
   ]
  },
  {
   "cell_type": "markdown",
   "metadata": {},
   "source": [
    "As with Series, the elements of a DataFrame are mutable, but the indices are not."
   ]
  },
  {
   "cell_type": "code",
   "execution_count": null,
   "metadata": {},
   "outputs": [],
   "source": [
    "iphone_df.Camera_MP[4] = 6\n",
    "print(iphone_df)"
   ]
  },
  {
   "cell_type": "code",
   "execution_count": null,
   "metadata": {},
   "outputs": [],
   "source": [
    "iphone_df.Camera_MP = 6\n",
    "print(iphone_df)"
   ]
  },
  {
   "cell_type": "markdown",
   "metadata": {},
   "source": [
    "We can easily add columns to the DataFrame, and just as easily delete columns."
   ]
  },
  {
   "cell_type": "code",
   "execution_count": null,
   "metadata": {},
   "outputs": [],
   "source": [
    "iphone_df['Resolution_PPI'] = [163, 163, 163, 326, 326, 326, 326, 326]\n",
    "print(iphone_df)"
   ]
  },
  {
   "cell_type": "code",
   "execution_count": null,
   "metadata": {},
   "outputs": [],
   "source": [
    "del iphone_df['Camera_MP']\n",
    "print(iphone_df)"
   ]
  },
  {
   "cell_type": "markdown",
   "metadata": {},
   "source": [
    "### Pass-by-reference (again)\n",
    "Pass-by-reference also applies to Series and DataFrames. If we extract part of the DataFrame and change it, the original DataFrame is also altered."
   ]
  },
  {
   "cell_type": "code",
   "execution_count": null,
   "metadata": {},
   "outputs": [],
   "source": [
    "df_2 = DataFrame({'x': [0,1,2,3],'y': [4,5,6,7],'z': [8,9,10,11]},index=('a','b','c','d'))\n",
    "print(df_2)"
   ]
  },
  {
   "cell_type": "code",
   "execution_count": null,
   "metadata": {},
   "outputs": [],
   "source": [
    "sample = df_2.x\n",
    "print(df_2)\n",
    "sample[0:2] = 10\n",
    "print(sample)\n",
    "print(df_2)"
   ]
  },
  {
   "cell_type": "markdown",
   "metadata": {},
   "source": [
    "To create a new object, for which changing it doesn't change the original use `.copy()`"
   ]
  },
  {
   "cell_type": "code",
   "execution_count": null,
   "metadata": {},
   "outputs": [],
   "source": [
    "df_3 = DataFrame({'x': [0,1,2,3],'y': [4,5,6,7],'z': [8,9,10,11]},index=('a','b','c','d'))\n",
    "sample2 = df_3.x.copy()\n",
    "sample2[0:2] = 10\n",
    "print(df_3)"
   ]
  },
  {
   "cell_type": "markdown",
   "metadata": {},
   "source": [
    "### *in* operator\n",
    "You can use the *in* operator to determine whether a value is in a particular object."
   ]
  },
  {
   "cell_type": "code",
   "execution_count": null,
   "metadata": {},
   "outputs": [],
   "source": [
    "print(1 in range(10))\n",
    "print(10 in range(11))"
   ]
  },
  {
   "cell_type": "markdown",
   "metadata": {},
   "source": [
    "It also works with Pandas objects provided you specify whether you want to search the values or the indices."
   ]
  },
  {
   "cell_type": "code",
   "execution_count": null,
   "metadata": {},
   "outputs": [],
   "source": [
    "print(512 in iphone_df.values)\n",
    "print(512 in iphone_df.Weight_g.values)\n",
    "print(512 in iphone_df.Memory_MB.values)\n",
    "print('iPhone' in iphone_df.index)"
   ]
  },
  {
   "cell_type": "markdown",
   "metadata": {},
   "source": [
    "#### Exercise 5\n",
    "Take the data from the table below and store it as a pandas DataFrame. Use the *Name* column as the row index, and the remaining column headings as the column indices. After creating the DataFrame, print out Darren's height.\n",
    "\n",
    "| Name | Age | Height | Weight |\n",
    "| ----------- | ----------- | ----------- | ----------- |\n",
    "| Aaron      | 23      | 1.7   | 64     |\n",
    "| Barry      | 36      | 2.1   | 99     |\n",
    "| Catherine      | 27      | 1.8   | 68     |\n",
    "| Darren      | 19      | 1.9   | 85     |\n",
    "| Edel      | 41      | 1.7   | 102     |\n",
    "| Francis      | 38      | 2.0   | 84     |\n",
    "| George      | 57      | 1.8   | 87     |\n",
    "| Helen      | 17      | 1.6   | 90     |\n",
    "| Ian      | 28      | 1.7   | 78     |"
   ]
  },
  {
   "cell_type": "code",
   "execution_count": null,
   "metadata": {},
   "outputs": [],
   "source": []
  }
 ],
 "metadata": {
  "kernelspec": {
   "display_name": "Python 3 (ipykernel)",
   "language": "python",
   "name": "python3"
  },
  "language_info": {
   "codemirror_mode": {
    "name": "ipython",
    "version": 3
   },
   "file_extension": ".py",
   "mimetype": "text/x-python",
   "name": "python",
   "nbconvert_exporter": "python",
   "pygments_lexer": "ipython3",
   "version": "3.10.13"
  }
 },
 "nbformat": 4,
 "nbformat_minor": 4
}
